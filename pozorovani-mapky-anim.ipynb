{
 "cells": [
  {
   "cell_type": "code",
   "execution_count": null,
   "metadata": {},
   "outputs": [],
   "source": [
    "import pandas as pd\n",
    "import matplotlib.pyplot as plt\n",
    "import numpy as np\n",
    "from mpl_toolkits.basemap import Basemap\n",
    "import os\n",
    "import unicodedata\n",
    "import re\n",
    "import imageio"
   ]
  },
  {
   "cell_type": "code",
   "execution_count": null,
   "metadata": {},
   "outputs": [],
   "source": [
    "%%javascript\n",
    "IPython.OutputArea.prototype._should_scroll = function(lines) {\n",
    "    return false;\n",
    "}"
   ]
  },
  {
   "cell_type": "code",
   "execution_count": null,
   "metadata": {
    "collapsed": true
   },
   "outputs": [],
   "source": [
    "def slugify(value):\n",
    "    \"\"\"\n",
    "    https://stackoverflow.com/a/295466\n",
    "    Normalizes string, converts to lowercase, removes non-alpha characters,\n",
    "    and converts spaces to hyphens.\n",
    "    \"\"\"\n",
    "    value = unicodedata.normalize('NFKD', value).encode('ascii', 'ignore')\n",
    "    value = re.sub('[^\\w\\s-]', '', str(value)).strip().lower()\n",
    "    value = re.sub('[-\\s]+', '-', str(value))\n",
    "    \n",
    "    return value.strip('b')"
   ]
  },
  {
   "cell_type": "code",
   "execution_count": null,
   "metadata": {
    "collapsed": true
   },
   "outputs": [],
   "source": [
    "data = pd.read_csv('./scratch/export.csv', encoding='windows-1250', sep=';')"
   ]
  },
  {
   "cell_type": "code",
   "execution_count": null,
   "metadata": {
    "collapsed": true
   },
   "outputs": [],
   "source": [
    "#dropna\n",
    "data.dropna(how='all', subset=['Lat', 'ObsLat'], inplace=True)\n",
    "data.dropna(how='all', subset=['TaxonNameCZ'], inplace=True)"
   ]
  },
  {
   "cell_type": "code",
   "execution_count": null,
   "metadata": {
    "collapsed": true
   },
   "outputs": [],
   "source": [
    "#omezeni na aktulalni dny\n",
    "#data = data[(data.Week > 28) & (data.Week < 32)]"
   ]
  },
  {
   "cell_type": "code",
   "execution_count": null,
   "metadata": {},
   "outputs": [],
   "source": [
    "ordr = 0\n",
    "for name in data.TaxonNameCZ.value_counts().keys():\n",
    "    ordr += 1\n",
    "    print(name)\n",
    "    ser = data[data.TaxonNameCZ == name]\n",
    "    for i in range(1, 13):\n",
    "        se = ser[ser.Month == i]\n",
    "        plt.figure(ordr + i)\n",
    "        plt.figure(figsize=(10, 8))\n",
    "        map = Basemap(resolution='c', # c, l, i, h, f or None\n",
    "                projection='merc',\n",
    "                lat_0=50.0835494, lon_0=14.4341414,\n",
    "                llcrnrlon=14.224453, llcrnrlat=49.941936, urcrnrlon=14.706795, urcrnrlat=50.177403)\n",
    "\n",
    "        map.readshapefile('./scratch/mc/TMMESTSKECASTI_P', 'mc')\n",
    "\n",
    "        x, y = map(se.Lon.values, se.Lat.values)\n",
    "\n",
    "        map.scatter(x, y, 2, marker='o', color='r')\n",
    "        plt.title(name + ' - ' + str(i) + '. měsíc')\n",
    "        plt.savefig('./scratch/img/' + str(i) + slugify(name) + '.png', bbox_inches='tight')\n",
    "        plt.close()\n",
    "    \n",
    "    #make gif\n",
    "    images = []\n",
    "    for filename in os.listdir('./scratch/img/'):\n",
    "        images.append(imageio.imread('./scratch/img/' + filename))\n",
    "    imageio.mimsave('./gifs/' + slugify(name) + '.gif', images,  duration=1)\n",
    "    \n",
    "    #clean\n",
    "    for filename in os.listdir('./scratch/img/'):\n",
    "        os.remove('./scratch/img/' + filename)"
   ]
  },
  {
   "cell_type": "code",
   "execution_count": null,
   "metadata": {},
   "outputs": [],
   "source": [
    "#make html prez\n",
    "with open('animated-maps.html', 'w', encoding='utf-8') as f:\n",
    "    f.write('<!doctype html><head><meta charset=\"utf-8\"></head><body>')\n",
    "    f.write('vyrobil <a target=\"_blank\" href=\"https://datastory.cz\">datastory</a>'\n",
    "    + ', <a target=\"_blank\" href=\"https://github.com/datastory/avif-stats\">kód volný</a>, použitá data (roky 2013-16) pochází'\n",
    "    + ' z <a target=\"_blank\" href=\"http://www.birds.cz/avif/\">faunistické databáze AVIF</a><br><br>')\n",
    "    f.write('<b>na stránce můžete hledat kombinací kláves Ctrl + F</b><br>')\n",
    "    for name in data.TaxonNameCZ.value_counts().keys():\n",
    "        f.write('<h3>' + name + '</h3><br><img src=\"./gifs/' + slugify(name) + '.gif\"><br>')\n",
    "    f.write('</body></html>')"
   ]
  }
 ],
 "metadata": {
  "anaconda-cloud": {},
  "kernelspec": {
   "display_name": "Python [default]",
   "language": "python",
   "name": "python3"
  },
  "language_info": {
   "codemirror_mode": {
    "name": "ipython",
    "version": 3
   },
   "file_extension": ".py",
   "mimetype": "text/x-python",
   "name": "python",
   "nbconvert_exporter": "python",
   "pygments_lexer": "ipython3",
   "version": "3.5.3"
  }
 },
 "nbformat": 4,
 "nbformat_minor": 1
}
