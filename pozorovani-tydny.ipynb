{
 "cells": [
  {
   "cell_type": "code",
   "execution_count": 24,
   "metadata": {
    "collapsed": true
   },
   "outputs": [],
   "source": [
    "import pandas as pd\n",
    "import matplotlib.pyplot as plt\n",
    "import numpy as np"
   ]
  },
  {
   "cell_type": "code",
   "execution_count": 25,
   "metadata": {},
   "outputs": [
    {
     "data": {
      "application/javascript": [
       "IPython.OutputArea.prototype._should_scroll = function(lines) {\n",
       "    return false;\n",
       "}"
      ],
      "text/plain": [
       "<IPython.core.display.Javascript object>"
      ]
     },
     "metadata": {},
     "output_type": "display_data"
    }
   ],
   "source": [
    "%%javascript\n",
    "IPython.OutputArea.prototype._should_scroll = function(lines) {\n",
    "    return false;\n",
    "}"
   ]
  },
  {
   "cell_type": "code",
   "execution_count": 26,
   "metadata": {
    "collapsed": true
   },
   "outputs": [],
   "source": [
    "data = pd.read_csv('./scratch/export.csv', encoding='windows-1250', sep=';')"
   ]
  },
  {
   "cell_type": "code",
   "execution_count": 27,
   "metadata": {
    "collapsed": true
   },
   "outputs": [],
   "source": [
    "#dropna\n",
    "data.dropna(how='all', subset=['Lat', 'ObsLat'], inplace=True)\n",
    "data.dropna(how='all', subset=['TaxonNameCZ'], inplace=True)"
   ]
  },
  {
   "cell_type": "code",
   "execution_count": 28,
   "metadata": {
    "collapsed": true
   },
   "outputs": [],
   "source": [
    "#number of observers active weekly\n",
    "weekly_act = {}\n",
    "obs_num = len(data.ObserversSurname.unique())\n",
    "week = 0\n",
    "for we in data.groupby('Week').ObserversSurname.unique():\n",
    "    week += 1\n",
    "    weekly_act[week] = len(we)\n",
    "\n",
    "#relative to max active in one week\n",
    "w_max = np.max(list(weekly_act.values()))\n",
    "for key, value in weekly_act.items():\n",
    "    weekly_act[key] = value / w_max"
   ]
  },
  {
   "cell_type": "code",
   "execution_count": null,
   "metadata": {
    "collapsed": true
   },
   "outputs": [],
   "source": [
    "#data = data[['Date', 'Year', 'Month', 'TenDays', 'Week', 'TimeStart', 'TimeEnd', 'Lat', 'Lon', 'TaxonNameCZ', 'CountLow', 'CountHigh', 'CountExact']]"
   ]
  },
  {
   "cell_type": "code",
   "execution_count": null,
   "metadata": {
    "collapsed": true
   },
   "outputs": [],
   "source": [
    "#aggregate\n",
    "series = {}\n",
    "for row in data.iterrows():\n",
    "    name = row[1]['TaxonNameCZ']\n",
    "    week = row[1]['Week']\n",
    "    \n",
    "    if name not in series:\n",
    "        series[name] = dict(zip(np.arange(1, 54), np.zeros(53, dtype=np.int)))\n",
    "        \n",
    "    series[name][week] += 1"
   ]
  },
  {
   "cell_type": "code",
   "execution_count": null,
   "metadata": {
    "collapsed": true
   },
   "outputs": [],
   "source": [
    "#sort\n",
    "sums = {}\n",
    "for key in series:\n",
    "    sums[key] = np.sum(list(series[key].values()))"
   ]
  },
  {
   "cell_type": "code",
   "execution_count": null,
   "metadata": {},
   "outputs": [],
   "source": [
    "#draw charts\n",
    "ordr = 0\n",
    "for sp in sorted(sums, key=sums.get, reverse=True):\n",
    "    ordr += 1\n",
    "    ser = series[sp]\n",
    "    plt.figure(ordr)\n",
    "    plt.plot(list(ser.keys()), np.divide(list(ser.values()), list(weekly_act.values())), 'ro')\n",
    "    plt.axis([1, 53, 0, np.max(list(ser.values())) + 1])\n",
    "    plt.title(sp)\n",
    "\n",
    "    plt.show()"
   ]
  }
 ],
 "metadata": {
  "anaconda-cloud": {},
  "kernelspec": {
   "display_name": "Python [default]",
   "language": "python",
   "name": "python3"
  },
  "language_info": {
   "codemirror_mode": {
    "name": "ipython",
    "version": 3
   },
   "file_extension": ".py",
   "mimetype": "text/x-python",
   "name": "python",
   "nbconvert_exporter": "python",
   "pygments_lexer": "ipython3",
   "version": "3.5.3"
  }
 },
 "nbformat": 4,
 "nbformat_minor": 1
}
